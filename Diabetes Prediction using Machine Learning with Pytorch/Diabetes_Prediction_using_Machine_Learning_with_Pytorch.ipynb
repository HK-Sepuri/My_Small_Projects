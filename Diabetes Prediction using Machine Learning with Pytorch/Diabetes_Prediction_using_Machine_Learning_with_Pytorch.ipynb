{
  "nbformat": 4,
  "nbformat_minor": 0,
  "metadata": {
    "colab": {
      "provenance": [],
      "authorship_tag": "ABX9TyOgoiZUsaSQvqmsYocARjPL",
      "include_colab_link": true
    },
    "kernelspec": {
      "name": "python3",
      "display_name": "Python 3"
    },
    "language_info": {
      "name": "python"
    }
  },
  "cells": [
    {
      "cell_type": "markdown",
      "metadata": {
        "id": "view-in-github",
        "colab_type": "text"
      },
      "source": [
        "<a href=\"https://colab.research.google.com/github/HK-Sepuri/My_Small_Projects/blob/main/Diabetes%20Prediction%20using%20Machine%20Learning%20with%20Pytorch/Diabetes_Prediction_using_Machine_Learning_with_Pytorch.ipynb\" target=\"_parent\"><img src=\"https://colab.research.google.com/assets/colab-badge.svg\" alt=\"Open In Colab\"/></a>"
      ]
    },
    {
      "cell_type": "markdown",
      "source": [
        "# Diabetes Prediction using Machine Learning with Pytorch"
      ],
      "metadata": {
        "id": "6zoksCAjgKLs"
      }
    },
    {
      "cell_type": "code",
      "source": [],
      "metadata": {
        "id": "0Mt9WaqrgLwv"
      },
      "execution_count": null,
      "outputs": []
    }
  ]
}